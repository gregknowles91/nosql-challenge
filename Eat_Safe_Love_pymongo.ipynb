{
 "cells": [
  {
   "cell_type": "markdown",
   "id": "2d0a07c4",
   "metadata": {},
   "source": [
    "# Eat Safe, Love\n"
   ]
  },
  {
   "cell_type": "markdown",
   "id": "34bc6b4a",
   "metadata": {},
   "source": [
    "## Part 1: Database and Jupyter Notebook Set Up"
   ]
  },
  {
   "cell_type": "code",
   "execution_count": 1,
   "id": "b401b13d",
   "metadata": {},
   "outputs": [
    {
     "name": "stdout",
     "output_type": "stream",
     "text": [
      "Collections in 'uk_food': []\n"
     ]
    }
   ],
   "source": [
    "\n",
    "# Import necessary libraries\n",
    "from pymongo import MongoClient\n",
    "\n",
    "# Connect to MongoDB on localhost and port 27017\n",
    "client = MongoClient('mongodb://localhost:27017/')\n",
    "\n",
    "# Connect to the 'uk_food' database (it will be created if it doesn't exist)\n",
    "db = client['uk_food']\n",
    "\n",
    "# Check the database connection by listing the collections\n",
    "print(\"Collections in 'uk_food':\", db.list_collection_names())\n",
    "\n",
    "# Get the 'establishments' collection\n",
    "establishments = db['establishments']\n"
   ]
  },
  {
   "cell_type": "markdown",
   "id": "6fbd0a98",
   "metadata": {},
   "source": [
    "## Part 2: Update the Database"
   ]
  },
  {
   "cell_type": "markdown",
   "id": "d58ba646",
   "metadata": {},
   "source": [
    "1. Add the new restaurant \"Penang Flavours\"."
   ]
  },
  {
   "cell_type": "code",
   "execution_count": null,
   "id": "ca37a2ca",
   "metadata": {},
   "outputs": [
    {
     "name": "stdout",
     "output_type": "stream",
     "text": [
      "New restaurant inserted: {'BusinessType': 'Restaurant/Cafe/Canteen', 'BusinessTypeID': None, 'LocalAuthorityName': 'Greenwich', 'Name': 'Penang Flavours', 'RatingValue': None, 'Latitude': '51.4934', 'Longitude': '-0.0098', '_id': ObjectId('67c67386fd66ce18393a34bc')}\n"
     ]
    }
   ],
   "source": [
    "\n",
    "# Add a new restaurant \"Penang Flavours\" to the 'establishments' collection\n",
    "new_restaurant = {\n",
    "    \"BusinessType\": \"Restaurant/Cafe/Canteen\",\n",
    "    \"BusinessTypeID\": None,  # This will be updated later\n",
    "    \"LocalAuthorityName\": \"Greenwich\",\n",
    "    \"Name\": \"Penang Flavours\",\n",
    "    \"RatingValue\": None,  # Not rated yet\n",
    "    \"Latitude\": \"51.4934\",  # Example latitude\n",
    "    \"Longitude\": \"-0.0098\"  \n",
    "}\n",
    "\n",
    "# Insert the new restaurant into the collection\n",
    "establishments.insert_one(new_restaurant)\n",
    "\n",
    "# Check that the new restaurant was inserted\n",
    "print(\"New restaurant inserted:\", new_restaurant)\n"
   ]
  },
  {
   "cell_type": "markdown",
   "id": "e17508a0",
   "metadata": {},
   "source": [
    "2. Find the BusinessTypeID for \"Restaurant/Cafe/Canteen\"."
   ]
  },
  {
   "cell_type": "code",
   "execution_count": 3,
   "id": "ce112397",
   "metadata": {},
   "outputs": [
    {
     "data": {
      "text/plain": [
       "{'_id': ObjectId('67c67386fd66ce18393a34bc'),\n",
       " 'BusinessType': 'Restaurant/Cafe/Canteen',\n",
       " 'BusinessTypeID': None}"
      ]
     },
     "execution_count": 3,
     "metadata": {},
     "output_type": "execute_result"
    }
   ],
   "source": [
    "\n",
    "# Find the BusinessTypeID for \"Restaurant/Cafe/Canteen\"\n",
    "business_type = establishments.find_one({\"BusinessType\": \"Restaurant/Cafe/Canteen\"}, {\"BusinessTypeID\": 1, \"BusinessType\": 1})\n",
    "\n",
    "# Display the BusinessTypeID for Restaurant/Cafe/Canteen\n",
    "business_type\n"
   ]
  },
  {
   "cell_type": "markdown",
   "id": "6684dd95",
   "metadata": {},
   "source": [
    "3. Update the new restaurant with the `BusinessTypeID` you found."
   ]
  },
  {
   "cell_type": "code",
   "execution_count": 5,
   "id": "f3efa81a",
   "metadata": {},
   "outputs": [
    {
     "name": "stdout",
     "output_type": "stream",
     "text": [
      "Updated Restaurant: {'_id': ObjectId('67c67386fd66ce18393a34bc'), 'BusinessType': 'Restaurant/Cafe/Canteen', 'BusinessTypeID': None, 'LocalAuthorityName': 'Greenwich', 'Name': 'Penang Flavours', 'RatingValue': None, 'Latitude': '51.4934', 'Longitude': '-0.0098'}\n"
     ]
    }
   ],
   "source": [
    "\n",
    "# Update the new restaurant with the BusinessTypeID\n",
    "establishments.update_one(\n",
    "    {\"Name\": \"Penang Flavours\"},\n",
    "    {\"$set\": {\"BusinessTypeID\": business_type[\"BusinessTypeID\"]}}\n",
    ")\n",
    "\n",
    "# Verify the update\n",
    "updated_restaurant = establishments.find_one({\"Name\": \"Penang Flavours\"})\n",
    "print(\"Updated Restaurant:\", updated_restaurant)\n"
   ]
  },
  {
   "cell_type": "markdown",
   "id": "a6e4579a",
   "metadata": {},
   "source": [
    "4. Remove any establishments within the Dover Local Authority."
   ]
  },
  {
   "cell_type": "code",
   "execution_count": 6,
   "id": "acc3a53d",
   "metadata": {},
   "outputs": [
    {
     "data": {
      "text/plain": [
       "0"
      ]
     },
     "execution_count": 6,
     "metadata": {},
     "output_type": "execute_result"
    }
   ],
   "source": [
    "\n",
    "# Find how many documents have LocalAuthorityName as \"Dover\"\n",
    "dover_count = establishments.count_documents({\"LocalAuthorityName\": \"Dover\"})\n",
    "dover_count\n"
   ]
  },
  {
   "cell_type": "code",
   "execution_count": 7,
   "id": "9acd8ae8",
   "metadata": {},
   "outputs": [
    {
     "data": {
      "text/plain": [
       "0"
      ]
     },
     "execution_count": 7,
     "metadata": {},
     "output_type": "execute_result"
    }
   ],
   "source": [
    "\n",
    "# Delete all documents where LocalAuthorityName is \"Dover\"\n",
    "establishments.delete_many({\"LocalAuthorityName\": \"Dover\"})\n",
    "\n",
    "# Check if any remaining documents include Dover\n",
    "dover_check = establishments.count_documents({\"LocalAuthorityName\": \"Dover\"})\n",
    "dover_check\n"
   ]
  },
  {
   "cell_type": "markdown",
   "id": "713a34a5",
   "metadata": {},
   "source": [
    "5. Convert `latitude`, `longitude`, and `RatingValue` to numeric types."
   ]
  },
  {
   "cell_type": "code",
   "execution_count": 8,
   "id": "d78ad4ef",
   "metadata": {},
   "outputs": [
    {
     "name": "stdout",
     "output_type": "stream",
     "text": [
      "Sample document after conversion: {'_id': ObjectId('67c67386fd66ce18393a34bc'), 'BusinessType': 'Restaurant/Cafe/Canteen', 'BusinessTypeID': None, 'LocalAuthorityName': 'Greenwich', 'Name': 'Penang Flavours', 'RatingValue': {'$toInt': '$RatingValue'}, 'Latitude': {'$toDouble': '$Latitude'}, 'Longitude': {'$toDouble': '$Longitude'}}\n"
     ]
    }
   ],
   "source": [
    "\n",
    "# Convert latitude and longitude fields to numeric values\n",
    "establishments.update_many({}, {\"$set\": {\n",
    "    \"Latitude\": {\"$toDouble\": \"$Latitude\"},\n",
    "    \"Longitude\": {\"$toDouble\": \"$Longitude\"}\n",
    "}})\n",
    "\n",
    "# Set non-rated or invalid ratings to None and convert RatingValue to numeric\n",
    "establishments.update_many(\n",
    "    {\"RatingValue\": {\"$in\": [\"AwaitingInspection\", \"Awaiting Inspection\", \"AwaitingPublication\", \"Pass\", \"Exempt\"]}},\n",
    "    {\"$set\": {\"RatingValue\": None}}\n",
    ")\n",
    "\n",
    "establishments.update_many({}, {\"$set\": {\"RatingValue\": {\"$toInt\": \"$RatingValue\"}}})\n",
    "\n",
    "# Verify the updates\n",
    "sample = establishments.find_one()\n",
    "print(\"Sample document after conversion:\", sample)\n"
   ]
  }
 ],
 "metadata": {
  "kernelspec": {
   "display_name": "base",
   "language": "python",
   "name": "python3"
  },
  "language_info": {
   "codemirror_mode": {
    "name": "ipython",
    "version": 3
   },
   "file_extension": ".py",
   "mimetype": "text/x-python",
   "name": "python",
   "nbconvert_exporter": "python",
   "pygments_lexer": "ipython3",
   "version": "3.12.2"
  }
 },
 "nbformat": 4,
 "nbformat_minor": 5
}
